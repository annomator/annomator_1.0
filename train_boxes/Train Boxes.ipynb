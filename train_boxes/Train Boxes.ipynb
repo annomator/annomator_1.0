{
 "cells": [
  {
   "cell_type": "markdown",
   "metadata": {},
   "source": [
    "# \n",
    "### 1 Create tf record files\n",
    "### 2 Train\n",
    "### 3 Export Graph\n",
    "### 4 Detect and ouput results\n",
    "\n",
    "##### 5 Could be Evaluate"
   ]
  },
  {
   "cell_type": "code",
   "execution_count": null,
   "metadata": {},
   "outputs": [],
   "source": [
    "# Set path to code\n",
    "#import os, sys\n",
    "#PATH_TO_TF_SLIM = os.path.join(os.path.abspath('./'), 'tf_slim')\n",
    "#sys.path.append(PATH_TO_TF_SLIM)\n",
    "# Still need to run from terminal etc\n",
    "# Run in terminal from train dir (the jupyter terminal)\n",
    "#! export PYTHONPATH=$PYTHONPATH:`pwd`:`pwd`/tf_slim\n",
    "! export PYTHONPATH=$PYTHONPATH:`pwd`:`pwd`/tf_slim_obj_det\n",
    "set PYTHONPATH=%PYTHONPATH%; C:\\path\\to\\tf_slim_obj_det\n",
    "# ref\n",
    "#! export PYTHONPATH=$PYTHONPATH:`pwd`:`pwd`../code\n",
    "#! export PYTHONPATH=/tf_slim"
   ]
  },
  {
   "cell_type": "markdown",
   "metadata": {},
   "source": [
    "### 1 Create TF Record files"
   ]
  },
  {
   "cell_type": "code",
   "execution_count": null,
   "metadata": {},
   "outputs": [],
   "source": [
    "# Create TF Record files required for training\n",
    "#! python create_coco_coded100_tf_record.py \\\n",
    "\n",
    "! python create_tf_record_from_json.py\n",
    "\n",
    "\n",
    "\n",
    "# Default\n",
    "#--image_dir=./train_images \\\n",
    "#--mask_dir=./train_masks \\\n",
    "#--output_dir=./tf_records \\\n",
    "#--val_split=0\n",
    "\n",
    "\n",
    "#--faces_only=False --mask_type=png\n",
    "\n",
    "# --data_dir=`pwd` --output_dir=`pwd` \\"
   ]
  },
  {
   "cell_type": "code",
   "execution_count": null,
   "metadata": {},
   "outputs": [],
   "source": [
    "anchor_generator.proto\n",
    "argmax_matcher.proto\n",
    "bipartite_matcher.proto\n",
    "box_coder.proto\n",
    "box_predictor.proto\n",
    "eval.proto\n",
    "faster_rcnn.proto\n",
    "faster_rcnn_box_coder.proto\n",
    "graph_rewriter.proto\n",
    "grid_anchor_generator.proto\n",
    "hyperparams.proto\n",
    "image_resizer.proto\n",
    "input_reader.proto\n",
    "keypoint_box_coder.proto\n",
    "losses.proto\n",
    "matcher.proto\n",
    "mean_stddev_box_coder.proto\n",
    "model.proto\n",
    "multiscale_anchor_generator.proto\n",
    "optimizer.proto\n",
    "pipeline.proto\n",
    "post_processing.proto\n",
    "preprocessor.proto\n",
    "region_similarity_calculator.proto\n",
    "square_box_coder.proto\n",
    "ssd.proto\n",
    "ssd_anchor_generator.proto\n",
    "string_int_label_map.proto\n",
    "train.proto"
   ]
  },
  {
   "cell_type": "code",
   "execution_count": null,
   "metadata": {},
   "outputs": [],
   "source": [
    "protoc --python_out=. .\\object_detection\\protos\\anchor_generator.proto\n",
    "protoc --python_out=. .\\object_detection\\protos\\argmax_matcher.proto\n",
    "protoc --python_out=. .\\object_detection\\protos\\bipartite_matcher.proto\n",
    "protoc --python_out=. .\\object_detection\\protos\\box_coder.proto\n",
    "protoc --python_out=. .\\object_detection\\protos\\box_predictor.proto\n",
    "protoc --python_out=. .\\object_detection\\protos\\eval.proto\n",
    "protoc --python_out=. .\\object_detection\\protos\\faster_rcnn.proto\n",
    "protoc --python_out=. .\\object_detection\\protos\\faster_rcnn_box_coder.proto\n",
    "protoc --python_out=. .\\object_detection\\protos\\graph_rewriter.proto\n",
    "protoc --python_out=. .\\object_detection\\protos\\grid_anchor_generator.proto\n",
    "protoc --python_out=. .\\object_detection\\protos\\hyperparams.proto\n",
    "protoc --python_out=. .\\object_detection\\protos\\image_resizer.proto\n",
    "protoc --python_out=. .\\object_detection\\protos\\input_reader.proto\n",
    "protoc --python_out=. .\\object_detection\\protos\\keypoint_box_coder.proto\n",
    "protoc --python_out=. .\\object_detection\\protos\\losses.proto\n",
    "protoc --python_out=. .\\object_detection\\protos\\matcher.proto\n",
    "protoc --python_out=. .\\object_detection\\protos\\mean_stddev_box_coder.proto\n",
    "protoc --python_out=. .\\object_detection\\protos\\model.proto\n",
    "protoc --python_out=. .\\object_detection\\protos\\multiscale_anchor_generator.proto\n",
    "protoc --python_out=. .\\object_detection\\protos\\optimizer.proto\n",
    "protoc --python_out=. .\\object_detection\\protos\\pipeline.proto\n",
    "protoc --python_out=. .\\object_detection\\protos\\post_processing.proto\n",
    "protoc --python_out=. .\\object_detection\\protos\\preprocessor.proto\n",
    "protoc --python_out=. .\\object_detection\\protos\\region_similarity_calculator.proto\n",
    "protoc --python_out=. .\\object_detection\\protos\\square_box_coder.proto\n",
    "protoc --python_out=. .\\object_detection\\protos\\ssd.proto\n",
    "protoc --python_out=. .\\object_detection\\protos\\ssd_anchor_generator.proto\n",
    "protoc --python_out=. .\\object_detection\\protos\\string_int_label_map.proto\n",
    "protoc --python_out=. .\\object_detection\\protos\\train.proto"
   ]
  },
  {
   "cell_type": "code",
   "execution_count": null,
   "metadata": {},
   "outputs": [],
   "source": []
  },
  {
   "cell_type": "markdown",
   "metadata": {},
   "source": [
    "### 2 Train"
   ]
  },
  {
   "cell_type": "code",
   "execution_count": null,
   "metadata": {},
   "outputs": [],
   "source": [
    "# Train\n",
    "#import os, sys\n",
    "#OBJ_DET_PATH = os.path.abspath(os.path.join('..', 'tf_slim_obj_det'))\n",
    "#print(OBJ_DET_PATH)\n",
    "#sys.path.append(OBJ_DET_PATH)\n",
    "#! export PYTHONPATH=$PYTHONPATH:`pwd`:`pwd`../tf_slim_obj_det\n",
    "#! python ../tf_slim_obj_det/object_detection/train.py \\\n",
    "\n",
    "! python ../tf_slim_obj_det/object_detection/train.py \\\n",
    "--logtostderr \\\n",
    "--pipeline_config_path=pipeline.config \\\n",
    "--train_dir=tf_train\n",
    "\n",
    "python ..\\tf_slim_obj_det\\object_detection\\train.py --logtostderr --pipeline_config_path=pipeline.config --train_dir=tf_train\n",
    "python ..\\..\\Scripts\\object_detection\\train.py --logtostderr --pipeline_config_path=pipeline.config --train_dir=tf_train\n",
    "# You can expect a few warnings at first - Scroll down to check\n",
    "\n",
    "# The following error usually means python path skipped (Top cell)\n",
    "# ModuleNotFoundError: No module named 'deployment'"
   ]
  },
  {
   "cell_type": "markdown",
   "metadata": {},
   "source": [
    "### Retrain\n",
    "##### Just need to alter one line in tf_train/pipeline.config\n"
   ]
  },
  {
   "cell_type": "code",
   "execution_count": null,
   "metadata": {
    "scrolled": false
   },
   "outputs": [],
   "source": [
    "# The following code does the same thing but uses notebook debugger\n",
    "# %run -i object_detection/train.py --logtostderr --pipeline_config_path=models/model/pipeline.config --train_dir=models/train"
   ]
  },
  {
   "cell_type": "code",
   "execution_count": null,
   "metadata": {},
   "outputs": [],
   "source": [
    "# Watch the progress in a better format\n",
    "# Start a new terminal window and navigate to this directory\n",
    "# Enter: tensorboard --logdir='tf_train'"
   ]
  },
  {
   "cell_type": "markdown",
   "metadata": {},
   "source": [
    "### 3 Export frozen graph for inference"
   ]
  },
  {
   "cell_type": "code",
   "execution_count": null,
   "metadata": {},
   "outputs": [],
   "source": [
    "# Export frozen graph for inference - update checkpoint number\n",
    "! python ../tf_slim_obj_det/object_detection/export_inference_graph.py \\\n",
    "--input_type image_tensor \\\n",
    "--pipeline_config_path tf_train/pipeline.config \\\n",
    "--trained_checkpoint_prefix tf_train/model.ckpt-2839 \\\n",
    "--output_directory exported_graphs"
   ]
  },
  {
   "cell_type": "markdown",
   "metadata": {},
   "source": [
    "### 4 Testing\n",
    "Copy the frozen inference graph"
   ]
  },
  {
   "cell_type": "code",
   "execution_count": null,
   "metadata": {},
   "outputs": [],
   "source": [
    "# Testing\n"
   ]
  }
 ],
 "metadata": {
  "kernelspec": {
   "display_name": "Python 3",
   "language": "python",
   "name": "python3"
  },
  "language_info": {
   "codemirror_mode": {
    "name": "ipython",
    "version": 3
   },
   "file_extension": ".py",
   "mimetype": "text/x-python",
   "name": "python",
   "nbconvert_exporter": "python",
   "pygments_lexer": "ipython3",
   "version": "3.6.4"
  }
 },
 "nbformat": 4,
 "nbformat_minor": 2
}
