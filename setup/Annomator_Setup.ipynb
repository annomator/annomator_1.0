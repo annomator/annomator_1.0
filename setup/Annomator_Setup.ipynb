{
 "cells": [
  {
   "cell_type": "markdown",
   "metadata": {},
   "source": [
    "# Seteup for Annomator"
   ]
  },
  {
   "cell_type": "markdown",
   "metadata": {},
   "source": [
    "### Quick Install - Terminal\n",
    "##### Simply enter the following in a terminal\n",
    "pip install -r annotator_requirements.txt\n",
    "or for GPU\n",
    "pip install -r annotator_requirements_gpu.txt\n",
    "\n",
    "You do not need to use PYTHONPATH unless you use pbtxt or are training"
   ]
  },
  {
   "cell_type": "markdown",
   "metadata": {},
   "source": [
    "### Install\n",
    "\n",
    "##### It is recommended to use Python 3.6.6 \n",
    "Works with Python 2.7 and 3.3-3.6 (Not 3.7)\n",
    "\n",
    "##### It is recommended to use virtualenv\n",
    "Works as system/native, conda, virtualenv or pipenv\n",
    "\n",
    "##### It is recommended to use Tensorflow 1.5.0 and TF Object Detection 1.0 BEFORE September 2018\n",
    "Works with 1.5.0 - 1.10 (Not 1.11)\n",
    "\n",
    "\n",
    "##### Download Python 3.6 and update to pip 18\n",
    "##### Create/activate the virtual environment\n",
    "pip install jupyter==6.4 # latest (7.0.1 bug is still active)\n",
    "pip install pillow==5.0.0 # some OS issues still exist with later versions\n",
    "pip install matplotlib # latest and only - I will lock down a version if needed\n",
    "pip install tensorflow==1.5.0 # or pip install tensorflow-gpu==1.5.0\n",
    "\n",
    "##### I have later added this to ensure both 1.5.0 and 1.10.0 will work for most\n",
    "pip install protobuf==3.6.1 (simply to ensure future version control)\n",
    "\n",
    "##### annomator_requirements.txt and annomator_requirements_gpu.txt are the result\n",
    "\n",
    "##### Windows - You may get an error msvcp140.dll\n",
    "Download the Visual C++ 2015 Redistributable Update 3\n",
    "\n",
    "##### Download annomator from github\n",
    "https://github.com/annomator\n",
    "\n",
    "##### Annotating is setup for MSCOCO - see  Demo\n",
    "\n",
    "##### I recommend using the following open source programs\n",
    "Gimp to annotate masks\n",
    "xnview for batching images\n",
    "VLC to turn video into images"
   ]
  },
  {
   "cell_type": "markdown",
   "metadata": {},
   "source": [
    "##### If you want to train boxes or train masks you may need to protoc and PYTHONPATH\n",
    "This is also needed for pbtxt, and therefore other models\n",
    "- I have included a coco category_index for the annotator\n",
    "- You can do the same for other models or your own data"
   ]
  },
  {
   "cell_type": "markdown",
   "metadata": {},
   "source": [
    "##### Protoc\n",
    "If Windows and protobuf 3.6.1 you are already done installing as pre-proprocessed - skip to PYTHONPATH\n",
    "\n",
    "The linux and mac install is much simpler as since 3.5+ else forced to script or do individually\n",
    "\n",
    "##### Protoc Downoload\n",
    "https://github.com/protocolbuffers/protobuf/releases/tag/v3.6.1"
   ]
  },
  {
   "cell_type": "markdown",
   "metadata": {},
   "source": [
    "##### PYTHONPATH\n",
    "This can be setup permanently using bash file or windows environment.  You cand just run the following in each terminal session:\n",
    "\n",
    "Linux/Mac - cd to the 'annomator' folder\n",
    "export PYTHONPATH=$PYTHONPATH:`pwd`:`pwd`/tf_slim_obj_det\n",
    "Windows - no need to cd.  Just change absolute path to your tf_slim_obj_det folder\n",
    "set PYTHONPATH=%PYTHONPATH%;C:\\path_to\\tf_slim_obj_det\n",
    "\n",
    "Note: Does note work from within Jupyter Notebook"
   ]
  }
 ],
 "metadata": {
  "kernelspec": {
   "display_name": "Python 3",
   "language": "python",
   "name": "python3"
  },
  "language_info": {
   "codemirror_mode": {
    "name": "ipython",
    "version": 3
   },
   "file_extension": ".py",
   "mimetype": "text/x-python",
   "name": "python",
   "nbconvert_exporter": "python",
   "pygments_lexer": "ipython3",
   "version": "3.6.4"
  }
 },
 "nbformat": 4,
 "nbformat_minor": 2
}
