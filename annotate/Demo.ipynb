{
 "cells": [
  {
   "cell_type": "markdown",
   "metadata": {},
   "source": [
    "# Annomator Demo"
   ]
  },
  {
   "cell_type": "markdown",
   "metadata": {},
   "source": [
    "Compatible with Linux, Windows and Mac, TF 1.5 and 1.8 models, Python 2 and 3, CPU or GPU"
   ]
  },
  {
   "cell_type": "markdown",
   "metadata": {},
   "source": [
    "You may be able to use Annomator with your existing Tensorflow install or use pip install -r annotator_requirements.txt"
   ]
  },
  {
   "cell_type": "markdown",
   "metadata": {},
   "source": [
    "### Annotate Text\n",
    "\n",
    "The target audience are researchers, students, non-profit, non-coders and personal use.\n",
    "\n",
    "Click a csv on most computers with office (Open or MS) and it may just open in a spreadsheet.  It should at least be easy to import to spreadsheet or database and allow analysis from end-user.  You can edit individual text files of each image tested to confirm or correct.  Any previous detections are skipped and the text file is collected for a summary.  \n",
    "\n",
    "Visual images are also made to allow easy corrections.  Write notes on image or change text.  The visual is also available in png, jpg or pdf.\n",
    "\n",
    "No training is available from text files - see json boxes or png masks"
   ]
  },
  {
   "cell_type": "code",
   "execution_count": null,
   "metadata": {},
   "outputs": [],
   "source": [
    "! python annotate_text_tables.py"
   ]
  },
  {
   "cell_type": "markdown",
   "metadata": {},
   "source": [
    "### Annotate json boxes\n",
    "This is designed for people who want to learn AI, Tensorflow Object Detection or train on boxed annotations or box models.  A json file (text) as an output is not easy extract data without writing a bit of python code but perfect for storing image and box data.  \n",
    "JSON is a standardised text format, primarily for storing data.  The category index is translated and included, as well as the detections.  It is hard to find or change data by hand but it is 'human-readable'.  It is often used to store training information for a boxes only model.  The majority of models at TF Model Zoo are only boxes and most are based on the MSCOCO Dataset."
   ]
  },
  {
   "cell_type": "code",
   "execution_count": null,
   "metadata": {},
   "outputs": [],
   "source": [
    "! python annotate_json_boxes.py"
   ]
  },
  {
   "cell_type": "markdown",
   "metadata": {},
   "source": [
    "### Annotate Masks\n",
    "Masks, or semantic encoding, involves categorizing down to pixel level.  Easy for the end-user but the coding assumes some knowledge.  To achieve this, you need to encode and decode the information in the color.\n",
    "\n",
    "A big part of this project was designing the codecs and mask output.  It can also be used for training.  "
   ]
  },
  {
   "cell_type": "code",
   "execution_count": null,
   "metadata": {},
   "outputs": [],
   "source": [
    "! python annotate_png_masks.py"
   ]
  },
  {
   "cell_type": "markdown",
   "metadata": {},
   "source": [
    "You can use a faster or more accurate model.  Just download, unzip the graph and paste in the frozen graph.  \n",
    "\n",
    "A box trainer is included that can be trained from json (annotated or mscoco panoptic) or from png masks (color condensed or binary).  All MSCOCO box models on TF Zoo are compatible (1.5.0 and 1.8.0)\n",
    "\n",
    "There are also several mask models available.  "
   ]
  }
 ],
 "metadata": {
  "kernelspec": {
   "display_name": "Python 3",
   "language": "python",
   "name": "python3"
  },
  "language_info": {
   "codemirror_mode": {
    "name": "ipython",
    "version": 3
   },
   "file_extension": ".py",
   "mimetype": "text/x-python",
   "name": "python",
   "nbconvert_exporter": "python",
   "pygments_lexer": "ipython3",
   "version": "3.6.4"
  }
 },
 "nbformat": 4,
 "nbformat_minor": 2
}
