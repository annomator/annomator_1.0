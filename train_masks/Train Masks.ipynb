{
 "cells": [
  {
   "cell_type": "markdown",
   "metadata": {},
   "source": [
    "#\n",
    "### 1 Create tf record files\n",
    "### 2 Train\n",
    "### 3 Export Graph\n",
    "### 4 Detect and ouput results\n",
    "\n",
    "##### 5 Could be Evaluate"
   ]
  },
  {
   "cell_type": "code",
   "execution_count": 10,
   "metadata": {},
   "outputs": [],
   "source": [
    "# Set path to code\n",
    "#import os, sys\n",
    "#PATH_TO_TF_SLIM = os.path.join(os.path.abspath('./'), 'tf_slim')\n",
    "#sys.path.append(PATH_TO_TF_SLIM)\n",
    "# Still need to run from terminal etc\n",
    "# Run in terminal from train dir (the jupyter terminal)\n",
    "#! export PYTHONPATH=$PYTHONPATH:`pwd`:`pwd`/tf_slim\n",
    "set PYTHONPATH=%PYTHONPATH%;C:\\path\\to\\tf_slim_obj_det\n",
    "\n",
    "set PYTHONPATH=C:\\path\\to\\tf_slim_obj_det\n",
    "\n",
    "# ref\n",
    "#! export PYTHONPATH=$PYTHONPATH:`pwd`:`pwd`../code\n",
    "#! export PYTHONPATH=/tf_slim"
   ]
  },
  {
   "cell_type": "markdown",
   "metadata": {},
   "source": [
    "### 1 Create TF Record files"
   ]
  },
  {
   "cell_type": "code",
   "execution_count": null,
   "metadata": {},
   "outputs": [],
   "source": [
    "# Create TF Record files required for training\n",
    "#! python create_coco_coded100_tf_record.py \\\n",
    "\n",
    "! python create_tf_record_from_png_mask.py\n",
    "\n",
    "\n",
    "# Default\n",
    "#--image_dir=./train_images \\\n",
    "#--mask_dir=./train_masks \\\n",
    "#--output_dir=./tf_records \\\n",
    "#--val_split=0\n",
    "\n",
    "\n",
    "#--faces_only=False --mask_type=png\n",
    "\n",
    "# --data_dir=`pwd` --output_dir=`pwd` \\"
   ]
  },
  {
   "cell_type": "markdown",
   "metadata": {},
   "source": [
    "### 2 Train"
   ]
  },
  {
   "cell_type": "code",
   "execution_count": null,
   "metadata": {
    "scrolled": false
   },
   "outputs": [],
   "source": [
    "# Train\n",
    "# Linux / Mac\n",
    "! python ./tf_slim/object_detection/train.py \\\n",
    "--logtostderr \\\n",
    "--pipeline_config_path=pipeline.config \\\n",
    "--train_dir=tf_train\n",
    "\n",
    "# Windows\n",
    "! python ../tf_slim_obj_det/object_detection/train.py --logtostderr --pipeline_config_path=pipeline.config --train_dir=tf_train\n",
    "# You can expect a few warnings at first - Scroll down to check\n",
    "\n",
    "# The following error usually means python path skipped (Top cell)\n",
    "# ModuleNotFoundError: No module named 'deployment'"
   ]
  },
  {
   "cell_type": "markdown",
   "metadata": {},
   "source": [
    "### Retrain\n",
    "##### Just need to alter one line in tf_train/pipeline.config\n"
   ]
  },
  {
   "cell_type": "code",
   "execution_count": 1,
   "metadata": {
    "scrolled": false
   },
   "outputs": [],
   "source": [
    "# The following code does the same thing but uses notebook debugger\n",
    "# %run -i object_detection/train.py --logtostderr --pipeline_config_path=models/model/pipeline.config --train_dir=models/train"
   ]
  },
  {
   "cell_type": "code",
   "execution_count": null,
   "metadata": {},
   "outputs": [],
   "source": [
    "# Watch the progress in a better format\n",
    "# Start a new terminal window and navigate to this directory\n",
    "# Enter: tensorboard --logdir='tf_train'"
   ]
  },
  {
   "cell_type": "code",
   "execution_count": null,
   "metadata": {},
   "outputs": [],
   "source": [
    "\"\"\"\n",
    "A local training job can be run with the following command:\n",
    "\n",
    "# From the tensorflow/models/research/ directory\n",
    "python object_detection/train.py \\\n",
    "    --logtostderr \\\n",
    "    --pipeline_config_path=${PATH_TO_YOUR_PIPELINE_CONFIG} \\\n",
    "    --train_dir=${PATH_TO_TRAIN_DIR}\n",
    "where ${PATH_TO_YOUR_PIPELINE_CONFIG} points to the pipeline config and ${PATH_TO_TRAIN_DIR} points to the directory in which training checkpoints and events will be written to. By default, the training job will run indefinitely until the user kills it.\n",
    "\n",
    "Running the Evaluation Job\n",
    "Evaluation is run as a separate job. The eval job will periodically poll the train directory for new checkpoints and evaluate them on a test dataset. The job can be run using the following command:\n",
    "\n",
    "# From the tensorflow/models/research/ directory\n",
    "python object_detection/eval.py \\\n",
    "    --logtostderr \\\n",
    "    --pipeline_config_path=${PATH_TO_YOUR_PIPELINE_CONFIG} \\\n",
    "    --checkpoint_dir=${PATH_TO_TRAIN_DIR} \\\n",
    "    --eval_dir=${PATH_TO_EVAL_DIR}\n",
    "\"\"\" \n",
    "# Only works if you have pycocotools\n",
    "! python ../tf_slim_obj_det/object_detection/eval.py --logtostderr --pipeline_config_path=pipeline.config --checkpoint_dir=tf_train --eval_dir=tf_train"
   ]
  },
  {
   "cell_type": "markdown",
   "metadata": {},
   "source": [
    "### 3 Export frozen graph for inference"
   ]
  },
  {
   "cell_type": "code",
   "execution_count": null,
   "metadata": {},
   "outputs": [],
   "source": [
    "# Export frozen graph for inference - update checkpoint number\n",
    "! python ../tf_slim_obj_det/object_detection/export_inference_graph.py \\\n",
    "--input_type image_tensor \\\n",
    "--pipeline_config_path tf_train/pipeline.config \\\n",
    "--trained_checkpoint_prefix tf_train/model.ckpt-2310 \\\n",
    "--output_directory exported_graphs\n",
    "\n",
    "python ../tf_slim_obj_det/object_detection/export_inference_graph.py --input_type image_tensor --pipeline_config_path tf_train/pipeline.config --trained_checkpoint_prefix tf_train/model.ckpt-2310 --output_directory exported_graphs"
   ]
  },
  {
   "cell_type": "markdown",
   "metadata": {},
   "source": [
    "### 4 Testing\n",
    "Copy the frozen inference graph"
   ]
  },
  {
   "cell_type": "code",
   "execution_count": null,
   "metadata": {},
   "outputs": [],
   "source": [
    "# Testing\n"
   ]
  }
 ],
 "metadata": {
  "kernelspec": {
   "display_name": "Python 3",
   "language": "python",
   "name": "python3"
  },
  "language_info": {
   "codemirror_mode": {
    "name": "ipython",
    "version": 3
   },
   "file_extension": ".py",
   "mimetype": "text/x-python",
   "name": "python",
   "nbconvert_exporter": "python",
   "pygments_lexer": "ipython3",
   "version": "3.6.4"
  }
 },
 "nbformat": 4,
 "nbformat_minor": 2
}
